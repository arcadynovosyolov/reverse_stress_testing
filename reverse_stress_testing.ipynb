{
 "cells": [
  {
   "cell_type": "markdown",
   "metadata": {},
   "source": [
    "# Reverse Stress Testing"
   ]
  },
  {
   "cell_type": "markdown",
   "metadata": {},
   "source": [
    "This notebook illustrates the method described in the paper: Y. Kopeliovich, A. Novosyolov, D. Satchkov, B. Schachter \"Robust Risk Estimation and Hedging: A Reverse Stress Testing Approach\".\n",
    "\n",
    "Direct stress testing consists in setting a number of stress scenarios (unusual factor values, outliers), and computing portfolio loss under those scenarios.\n",
    "\n",
    "Reverse stress testing problem formulates as follows. Given a portfolio and a predefined loss size, determine which factors stress (scenarios) would lead to that loss. This problem has infinitely many solutions, so additionally one would request that the scenarios selected would be <b>plausible</b> in some sense, and be sufficiently <b>different</b>."
   ]
  },
  {
   "cell_type": "markdown",
   "metadata": {},
   "source": [
    "## Method outline"
   ]
  },
  {
   "cell_type": "markdown",
   "metadata": {},
   "source": [
    "Denote $X=(X_1,\\dots,X_n)'$ a vector of factor returns, we assume that $X$ follows multivariate normal distribution with zero means $EX=0$ and covariance matrix $C=E(XX')$. Next, let $w=(w_1,\\dots,w_n)'$ be a vector of factor weights in a portfolio, so that the portfolio return equals $R=w'X$. Clearly portfolio mean and variance are $ER=0$ and $VR=w'Cw$.\n",
    "\n",
    "Let $L$ be the required loss size. Any scenario $x$ with $w'x=L$ provides this loss. To select most likely among these scenarios we need to maximize the conditional density function in $x$ given $w'x=L$, which is equivalent to minimizing $x'C^{-1}x$. Thus the most likely scenario $x=(x_1,\\dots,x_n)'$ providing the required loss is the solution of the optimization problem\n",
    "\n",
    "$$\n",
    "x'C^{-1}x\\to\\min_x,\n",
    "$$\n",
    "$$\n",
    "w'x=L.\n",
    "$$\n",
    "\n",
    "Solving it using Lagrange multipliers gives\n",
    "\n",
    "$$\n",
    "x_*=L\\,\\frac{Cw}{w'Cw}.\n",
    "$$\n",
    "\n",
    "Besides this most likely scenario, we would like to select a few more scenarios $x$ satisfying the equation $w'x=L$, located as far as possible from each other and from $x_*$, yet being quite possible. We formalize these conflicting requirements as follows. Select threshold $q$, and require that likelihood of all selected scenarios is not less than $q$ times the likelihood of $x_*$. In other words, we require that the <b>relative likelihood</b> varies from $q$ to 1."
   ]
  },
  {
   "cell_type": "markdown",
   "metadata": {},
   "source": [
    "## Code to be used"
   ]
  },
  {
   "cell_type": "markdown",
   "metadata": {},
   "source": [
    "### Import tools"
   ]
  },
  {
   "cell_type": "code",
   "execution_count": 1,
   "metadata": {
    "collapsed": false
   },
   "outputs": [
    {
     "name": "stdout",
     "output_type": "stream",
     "text": [
      "Populating the interactive namespace from numpy and matplotlib\n"
     ]
    }
   ],
   "source": [
    "import pandas as pd\n",
    "%pylab inline\n",
    "from scipy.stats import multivariate_normal"
   ]
  },
  {
   "cell_type": "markdown",
   "metadata": {},
   "source": [
    "### Define auxiliary functions"
   ]
  },
  {
   "cell_type": "code",
   "execution_count": 2,
   "metadata": {
    "collapsed": true
   },
   "outputs": [],
   "source": [
    "def gram_schmidt_columns(x):\n",
    "    q, r = np.linalg.qr(x)\n",
    "    return q\n",
    "\n",
    "\n",
    "def gram_schmidt_rows(x):\n",
    "    \"\"\" row-wise Gram Schmidt procedure \"\"\"\n",
    "    q, r = np.linalg.qr(x.T)\n",
    "    return q.T\n",
    "\n",
    "\n",
    "def p_from_w(w):\n",
    "    \"\"\" given weights vector w, calculate transform matrix p,\n",
    "    as described in Appendix A of the paper\n",
    "    \"\"\"\n",
    "    w = np.array(w)\n",
    "    n = len(w)\n",
    "    p = np.zeros((n, n))\n",
    "    p[0, :] = w / np.linalg.norm(w)\n",
    "    j0 = (np.abs(w) > 0.00001).nonzero()[0][0]\n",
    "    for j in range(j0):\n",
    "        p[j + 1, j] = 1\n",
    "    for j in range(j0 + 1, n):\n",
    "        p[j, j] = 1\n",
    "    gs = gram_schmidt_rows(p)\n",
    "    for j in range(gs.shape[1]):\n",
    "        if gs[0, j] < 0:\n",
    "            gs[:, j] = -gs[:, j]\n",
    "    return gs\n",
    "\n",
    "\n",
    "def standard_simplex_vertices(M):\n",
    "    \"\"\" just that \"\"\"\n",
    "    z = np.eye(M) - 1 / M\n",
    "    a = np.eye(M)\n",
    "    a[0, :] = 1\n",
    "    p = gram_schmidt_rows(a)\n",
    "    cls = np.append(range(1, M), 0)\n",
    "    gs = np.delete(p.dot(z), 0, axis=0)[:, cls]\n",
    "    if gs[0, 0] < 0:\n",
    "        gs = -gs\n",
    "    return gs * np.sqrt(M / (M - 1))\n",
    "\n",
    "\n",
    "def quadratic_form_inv(a, x):\n",
    "    \"\"\" x * a^(-1) * x \"\"\"\n",
    "    ax = np.linalg.solve(a, x)\n",
    "    return x.T.dot(ax)\n"
   ]
  },
  {
   "cell_type": "markdown",
   "metadata": {},
   "source": [
    "### Main procedure"
   ]
  },
  {
   "cell_type": "code",
   "execution_count": 3,
   "metadata": {
    "collapsed": false
   },
   "outputs": [],
   "source": [
    "def comp_scenarios(c, w, L, q, M, printIt=False):\n",
    "    \"\"\" given covariance matrix c, weights vector w,\n",
    "    loss L, relative likelihood threshold q,\n",
    "    and a number of non-central scenarios M,\n",
    "    compute stress scenarios, and their relative likelihood;\n",
    "    print all intermediate results if necessary\n",
    "    \"\"\"\n",
    "    # central scenario\n",
    "    cw = c.dot(w)\n",
    "    ah = L * cw / w.dot(cw)\n",
    "    if printIt:\n",
    "        print('------------   ah   ------------')\n",
    "        print(ah.round(3))\n",
    "\n",
    "    # prepare transform matrix\n",
    "    p = p_from_w(w)\n",
    "    n = len(w)\n",
    "    if printIt:\n",
    "        print('------------   p   ------------')\n",
    "        print(p.round(3))\n",
    "\n",
    "    ahy_full = p.dot(ah)\n",
    "    first_comp = ahy_full[0]\n",
    "    if printIt:\n",
    "        print('------------   ahy_full   ------------')\n",
    "        print(ahy_full.round(3))\n",
    "\n",
    "    # asset names\n",
    "    ass = c.columns\n",
    "\n",
    "    # compute covariance matrix in the transformed space\n",
    "    dy = p.dot(c.dot(p.T))\n",
    "    if printIt:\n",
    "        print('------------   dy   ------------')\n",
    "        print(dy.round(3))\n",
    "\n",
    "    # extract decomposition parts\n",
    "    d11 = dy[0, 0]\n",
    "    # d1I = dy[0, 1:]\n",
    "    dI1 = dy[1:, 0]\n",
    "    dII = dy[1:, 1:]\n",
    "\n",
    "    # compute center and conditional distribution in transformed space\n",
    "    wn = np.linalg.norm(w)\n",
    "    ahy = L * dI1 / d11 / wn\n",
    "    i_m = np.matrix(dI1).reshape(n - 1, 1) * np.matrix(dI1).reshape(1, n - 1)\n",
    "    dyh = dII - i_m / d11\n",
    "    if printIt:\n",
    "        print('------------   ahy   ------------')\n",
    "        print(ahy.round(3))\n",
    "        print('------------   dyh   ------------')\n",
    "        print(dyh.round(3))\n",
    "\n",
    "    # egenvalues in ascending order and eigenvectors\n",
    "    vals, vect = np.linalg.eig(dyh)\n",
    "    ind = vals.argsort()[::-1]\n",
    "    V = vect[:, ind]\n",
    "\n",
    "    # place the eigenvectors in opposite order\n",
    "    # V = vect[:, ::-1]\n",
    "    if printIt:\n",
    "        print('------------   V   ------------')\n",
    "        print(V.round(3))\n",
    "        print('------------   Vals   ------------')\n",
    "        print(vals.round(3))\n",
    "\n",
    "    # compute vertices of the regular M-simplex\n",
    "    t = standard_simplex_vertices(M)\n",
    "    if printIt:\n",
    "        print('------------   t   ------------')\n",
    "        print(t.round(3))\n",
    "\n",
    "    # rotation to principle components space\n",
    "    z = V[:, :(M - 1)].dot(t)\n",
    "    if printIt:\n",
    "        print('------------   z   ------------')\n",
    "        print(z.round(3))\n",
    "\n",
    "    # compute the sphere radius\n",
    "    z_last = z[:, -1]\n",
    "    denom = quadratic_form_inv(dyh, np.array(z_last))\n",
    "    r = np.sqrt(-2 * np.log(q) / denom)[0, 0]\n",
    "    ahyr = ahy.repeat(M).reshape(n - 1, M)\n",
    "    rz = r * z + ahyr\n",
    "    if printIt:\n",
    "        print('------------   r   ------------')\n",
    "        print(r.round(3))\n",
    "\n",
    "    # unite central scenario with sphere scenarios\n",
    "    df = pd.DataFrame(ahy, columns=['aa']).join(pd.DataFrame(rz))\n",
    "    cls = ['Scenario_{0}'.format(i) for i in range(M + 1)]\n",
    "    df.columns = cls\n",
    "\n",
    "    # append first_comp row at the beginning\n",
    "    df0 = first_comp * pd.DataFrame(np.ones((1, M + 1)), columns=cls)\n",
    "    df = df0.append(df.set_index(np.array(range(1, n))))\n",
    "    if printIt:\n",
    "        print('------------   df0   ------------')\n",
    "        print(df0.round(3))\n",
    "        print('------------   df   ------------')\n",
    "        print(df.round(3))\n",
    "\n",
    "    # rotating back to initial space\n",
    "    ar = p.T.dot(df)\n",
    "\n",
    "    # turning to dataframe\n",
    "    scenarios = pd.DataFrame(ar, columns=cls).set_index(ass)\n",
    "    if printIt:\n",
    "        print('------------   scenarios  ------------')\n",
    "        print(scenarios.round(3))\n",
    "\n",
    "    lik = np.array([multivariate_normal.pdf(scenarios[cls[j]],\n",
    "                                            mean=np.zeros((n,)),\n",
    "                                            cov=c)\n",
    "                    for j in range(M + 1)])\n",
    "    lik = pd.DataFrame((lik / lik[0]).reshape(1, M + 1), columns=cls)\n",
    "    lik.index = ['Likelihood']\n",
    "    if printIt:\n",
    "        print('------------   lik  ------------')\n",
    "        print(lik.round(3))\n",
    "\n",
    "    return scenarios, lik\n"
   ]
  },
  {
   "cell_type": "markdown",
   "metadata": {},
   "source": [
    "### Example from Appendix 3 of the paper"
   ]
  },
  {
   "cell_type": "code",
   "execution_count": 4,
   "metadata": {
    "collapsed": false
   },
   "outputs": [],
   "source": [
    "ass = pd.Series(['Australia', 'Oil', 'Debt fund'])\n",
    "ca = np.array([[11.871, 9.742, 1.125], [9.742, 14.723, 0.717], [1.125, 0.717, 0.219]])\n",
    "c = pd.DataFrame(ca, columns=ass).set_index(ass)\n",
    "w = np.ones((len(ass),))\n",
    "M = 3\n",
    "L = 13\n",
    "q = 0.1\n",
    "df, lik = comp_scenarios(c, w, L, q, M)"
   ]
  },
  {
   "cell_type": "markdown",
   "metadata": {},
   "source": [
    "##### Factor covariance matrix"
   ]
  },
  {
   "cell_type": "code",
   "execution_count": 5,
   "metadata": {
    "collapsed": false
   },
   "outputs": [
    {
     "name": "stdout",
     "output_type": "stream",
     "text": [
      "           Australia     Oil  Debt fund\n",
      "Australia     11.871   9.742      1.125\n",
      "Oil            9.742  14.723      0.717\n",
      "Debt fund      1.125   0.717      0.219\n"
     ]
    }
   ],
   "source": [
    "print(c)"
   ]
  },
  {
   "cell_type": "markdown",
   "metadata": {},
   "source": [
    "##### Stress scenarios"
   ]
  },
  {
   "cell_type": "code",
   "execution_count": 6,
   "metadata": {
    "collapsed": false
   },
   "outputs": [
    {
     "name": "stdout",
     "output_type": "stream",
     "text": [
      "           Scenario_0  Scenario_1  Scenario_2  Scenario_3\n",
      "Australia       5.914       5.311       5.815       6.616\n",
      "Oil             6.550       7.252       5.947       6.451\n",
      "Debt fund       0.536       0.437       1.238      -0.067\n"
     ]
    }
   ],
   "source": [
    "print(df.round(3))"
   ]
  },
  {
   "cell_type": "markdown",
   "metadata": {},
   "source": [
    "##### Scenarios relative likelihood"
   ]
  },
  {
   "cell_type": "code",
   "execution_count": 7,
   "metadata": {
    "collapsed": false
   },
   "outputs": [
    {
     "name": "stdout",
     "output_type": "stream",
     "text": [
      "            Scenario_0  Scenario_1  Scenario_2  Scenario_3\n",
      "Likelihood         1.0       0.885         0.1         0.1\n"
     ]
    }
   ],
   "source": [
    "print(lik.round(3))"
   ]
  },
  {
   "cell_type": "markdown",
   "metadata": {},
   "source": [
    "##### Check distances"
   ]
  },
  {
   "cell_type": "code",
   "execution_count": 8,
   "metadata": {
    "collapsed": false
   },
   "outputs": [
    {
     "data": {
      "text/plain": [
       "array([ 0.931,  0.931,  0.931,  1.613,  1.613,  1.613])"
      ]
     },
     "execution_count": 8,
     "metadata": {},
     "output_type": "execute_result"
    }
   ],
   "source": [
    "np.array([np.linalg.norm(df.ix[:, i] - df.ix[:, j]) for i in range(M) for j in range(i+1, M+1)]).round(3)"
   ]
  },
  {
   "cell_type": "markdown",
   "metadata": {},
   "source": [
    "Distances from the central scenario equal 0.931, distances between circle scenarios equal 1.613, as required."
   ]
  },
  {
   "cell_type": "markdown",
   "metadata": {},
   "source": [
    "### One more example"
   ]
  },
  {
   "cell_type": "code",
   "execution_count": 9,
   "metadata": {
    "collapsed": false
   },
   "outputs": [],
   "source": [
    "ass5 = pd.Series(['First', 'Second', 'Third', 'Fourth', 'Fifth'])\n",
    "ca5 = np.array([[3.266, 0.767, 0.021, 0.977, 0.337],\n",
    "                [0.767, 3.115, 0.023, 2.547, 0.351],\n",
    "                [0.021, 0.023, 0.002, 0.022, 0.008],\n",
    "                [0.977, 2.547, 0.022, 3.310, 0.339],\n",
    "                [0.337, 0.351, 0.008, 0.339, 0.270]])\n",
    "c = pd.DataFrame(ca5, columns=ass5).set_index(ass5)\n",
    "w = np.ones((len(ass5),))\n",
    "L = -5\n",
    "M = 4\n",
    "q = 0.01\n",
    "scenarios, lik = comp_scenarios(c, w, L, q, M)"
   ]
  },
  {
   "cell_type": "markdown",
   "metadata": {},
   "source": [
    "##### Factor covariance matrix"
   ]
  },
  {
   "cell_type": "code",
   "execution_count": 10,
   "metadata": {
    "collapsed": false
   },
   "outputs": [
    {
     "name": "stdout",
     "output_type": "stream",
     "text": [
      "        First  Second  Third  Fourth  Fifth\n",
      "First   3.266   0.767  0.021   0.977  0.337\n",
      "Second  0.767   3.115  0.023   2.547  0.351\n",
      "Third   0.021   0.023  0.002   0.022  0.008\n",
      "Fourth  0.977   2.547  0.022   3.310  0.339\n",
      "Fifth   0.337   0.351  0.008   0.339  0.270\n"
     ]
    }
   ],
   "source": [
    "print(c)"
   ]
  },
  {
   "cell_type": "markdown",
   "metadata": {},
   "source": [
    "##### Stress scenatios"
   ]
  },
  {
   "cell_type": "code",
   "execution_count": 11,
   "metadata": {
    "collapsed": false
   },
   "outputs": [
    {
     "name": "stdout",
     "output_type": "stream",
     "text": [
      "        Scenario_0  Scenario_1  Scenario_2  Scenario_3  Scenario_4\n",
      "First       -1.294      -2.688      -0.823      -1.287      -0.377\n",
      "Second      -1.640      -0.870      -0.809      -2.910      -1.968\n",
      "Third       -0.018      -0.021      -0.012       0.002      -0.043\n",
      "Fourth      -1.734      -1.056      -3.172      -1.664      -1.044\n",
      "Fifth       -0.315      -0.365      -0.183       0.859      -1.568\n"
     ]
    }
   ],
   "source": [
    "print(scenarios.round(3))"
   ]
  },
  {
   "cell_type": "markdown",
   "metadata": {},
   "source": [
    "##### Relative likelihood"
   ]
  },
  {
   "cell_type": "code",
   "execution_count": 12,
   "metadata": {
    "collapsed": false
   },
   "outputs": [
    {
     "name": "stdout",
     "output_type": "stream",
     "text": [
      "            Scenario_0  Scenario_1  Scenario_2  Scenario_3  Scenario_4\n",
      "Likelihood         1.0       0.592       0.126        0.01        0.01\n"
     ]
    }
   ],
   "source": [
    "print(lik.round(3))"
   ]
  }
 ],
 "metadata": {
  "kernelspec": {
   "display_name": "Python 3",
   "language": "python",
   "name": "python3"
  },
  "language_info": {
   "codemirror_mode": {
    "name": "ipython",
    "version": 3
   },
   "file_extension": ".py",
   "mimetype": "text/x-python",
   "name": "python",
   "nbconvert_exporter": "python",
   "pygments_lexer": "ipython3",
   "version": "3.6.0"
  }
 },
 "nbformat": 4,
 "nbformat_minor": 2
}
